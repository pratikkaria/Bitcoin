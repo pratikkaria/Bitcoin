{
 "cells": [
  {
   "cell_type": "code",
   "execution_count": 28,
   "metadata": {},
   "outputs": [
    {
     "name": "stdout",
     "output_type": "stream",
     "text": [
      "Success: no issues found in 1 source file\n",
      "\n",
      "here\n"
     ]
    }
   ],
   "source": [
    "%%typecheck\n",
    "from Crypto.PublicKey import RSA\n",
    "from Crypto.Hash import SHA256\n",
    "from typing import Tuple\n",
    "\n",
    "class Cryptographic:\n",
    "    def __init__(self,numberOfKeyBits:int):\n",
    "        self.publicKey,self.privateKey = self.generateKeys(numberOfKeyBits)\n",
    "        \n",
    "    def generateKeys(self,bits:int) -> Tuple[str,str]:\n",
    "        new_key = RSA.generate(bits, e=65537) \n",
    "        public_key = SHA256.new()\n",
    "        private_key = SHA256.new()\n",
    "        public_key.update(new_key.publickey().exportKey(\"PEM\"))\n",
    "        private_key.update(new_key.exportKey(\"PEM\"))\n",
    "        return (public_key.hexdigest(),private_key.hexdigest())\n",
    "\n",
    "a = 1\n",
    "if a==1:\n",
    "    print(\"here\")\n",
    "else:\n",
    "    temp = Cryptographic(1024)"
   ]
  },
  {
   "cell_type": "code",
   "execution_count": null,
   "metadata": {},
   "outputs": [],
   "source": [
    "\n",
    "\n",
    "\n",
    "\n"
   ]
  },
  {
   "cell_type": "code",
   "execution_count": null,
   "metadata": {},
   "outputs": [],
   "source": [
    "\n"
   ]
  },
  {
   "cell_type": "code",
   "execution_count": null,
   "metadata": {},
   "outputs": [],
   "source": []
  },
  {
   "cell_type": "code",
   "execution_count": null,
   "metadata": {},
   "outputs": [],
   "source": []
  }
 ],
 "metadata": {
  "kernelspec": {
   "display_name": "Python 3",
   "language": "python",
   "name": "python3"
  },
  "language_info": {
   "codemirror_mode": {
    "name": "ipython",
    "version": 3
   },
   "file_extension": ".py",
   "mimetype": "text/x-python",
   "name": "python",
   "nbconvert_exporter": "python",
   "pygments_lexer": "ipython3",
   "version": "3.7.6"
  }
 },
 "nbformat": 4,
 "nbformat_minor": 4
}
